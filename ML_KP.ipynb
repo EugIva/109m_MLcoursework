{
  "nbformat": 4,
  "nbformat_minor": 0,
  "metadata": {
    "colab": {
      "provenance": [],
      "include_colab_link": true
    },
    "kernelspec": {
      "name": "python3",
      "display_name": "Python 3"
    },
    "language_info": {
      "name": "python"
    }
  },
  "cells": [
    {
      "cell_type": "markdown",
      "metadata": {
        "id": "view-in-github",
        "colab_type": "text"
      },
      "source": [
        "<a href=\"https://colab.research.google.com/github/EugIva/109m_MLcoursework/blob/main/ML_KP.ipynb\" target=\"_parent\"><img src=\"https://colab.research.google.com/assets/colab-badge.svg\" alt=\"Open In Colab\"/></a>"
      ]
    },
    {
      "cell_type": "code",
      "source": [
        "import pandas as pd\n",
        "import matplotlib.pyplot as plt\n",
        "from sklearn.model_selection import train_test_split\n",
        "from sklearn.linear_model import LinearRegression\n",
        "from sklearn.metrics import mean_squared_error"
      ],
      "metadata": {
        "id": "vRom_osxyIwp"
      },
      "execution_count": null,
      "outputs": []
    },
    {
      "cell_type": "code",
      "execution_count": null,
      "metadata": {
        "id": "QGvEH1csxJXs"
      },
      "outputs": [],
      "source": [
        "class DatasetAnalyzer:\n",
        "    def __init__(self, dataset_path):\n",
        "        self.dataset_path = dataset_path\n",
        "        self.data = None\n",
        "        self.features = None\n",
        "        self.target = None\n",
        "        self.model = None\n",
        "\n",
        "    def load_dataset(self):\n",
        "        self.data = pd.read_csv(self.dataset_path)\n",
        "\n",
        "    def explore_dataset(self):\n",
        "\n",
        "        # Типо всякие графики, зависимости и тп\n",
        "        # Анализ датасета\n",
        "        print(\"Dataset Info:\")\n",
        "        print(self.data.info())\n",
        "\n",
        "        print(\"Correlation Matrix:\")\n",
        "        correlation_matrix = self.data.corr()\n",
        "        print(correlation_matrix)\n",
        "\n",
        "    def prepare_data(self, test_size=0.2):\n",
        "\n",
        "        # Тут еще должна быть подготовка данных, типо заполнение пропусков\n",
        "\n",
        "        self.features = self.data.drop(columns=[target_column]) # Укажем target_column\n",
        "        self.target = self.data[target_column]\n",
        "\n",
        "        self.X_train, self.X_test, self.y_train, self.y_test = train_test_split(\n",
        "            self.features, self.target, test_size=0.2, random_state=17\n",
        "        )\n",
        "\n",
        "    def train_model(self):\n",
        "        # Обучение какой-нибудь модели\n",
        "        self.model = LinearRegression()\n",
        "        self.model.fit(self.X_train, self.y_train)\n",
        "\n",
        "    def predict(self, input_data):\n",
        "        # Предсказание чего-нибудь от пользователя\n",
        "        predictions = self.model.predict(input_data)\n",
        "        return predictions\n",
        "\n",
        "    def quality_model(self):\n",
        "        # Оценка качества (хз, надо или нет) на тестовом куске\n",
        "        y_pred = self.model.predict(self.X_test)\n",
        "        mse = mean_squared_error(self.y_test, y_pred)\n",
        "        print(f\"MSE: {mse}\")"
      ]
    }
  ]
}